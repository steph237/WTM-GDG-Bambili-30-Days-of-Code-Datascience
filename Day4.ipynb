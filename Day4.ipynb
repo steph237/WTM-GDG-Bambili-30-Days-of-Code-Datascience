{
  "nbformat": 4,
  "nbformat_minor": 0,
  "metadata": {
    "colab": {
      "provenance": [],
      "authorship_tag": "ABX9TyOooQIdEZYiS2sdzb3TQgmd",
      "include_colab_link": true
    },
    "kernelspec": {
      "name": "python3",
      "display_name": "Python 3"
    },
    "language_info": {
      "name": "python"
    }
  },
  "cells": [
    {
      "cell_type": "markdown",
      "metadata": {
        "id": "view-in-github",
        "colab_type": "text"
      },
      "source": [
        "<a href=\"https://colab.research.google.com/github/steph237/WTM-GDG-Bambili-30-Days-of-Code-Datascience/blob/main/Day4.ipynb\" target=\"_parent\"><img src=\"https://colab.research.google.com/assets/colab-badge.svg\" alt=\"Open In Colab\"/></a>"
      ]
    },
    {
      "cell_type": "code",
      "execution_count": 2,
      "metadata": {
        "colab": {
          "base_uri": "https://localhost:8080/"
        },
        "id": "ciRK1x0HVq9p",
        "outputId": "1cb2625c-2396-4553-baee-459d09d31d92"
      },
      "outputs": [
        {
          "output_type": "stream",
          "name": "stdout",
          "text": [
            "['hello', 1, 'world', 2, 3, 'good', 4, 'day']\n"
          ]
        }
      ],
      "source": [
        "list1 = [\"hello\", 1, \"world\", 2]\n",
        "list2 = [3, \"good\",4, \"day\"]\n",
        "list3 = list1 + list2\n",
        "print(list3)"
      ]
    },
    {
      "cell_type": "code",
      "source": [
        "list4 = [5,6,7.0,\"eight\",\"nine\"]\n",
        "var1=type(list4[0])\n",
        "var2=type(list4[2])\n",
        "var3=type(list4[3][4])\n",
        "list5=[]\n",
        "list5.extend((var1,var2,var3))\n",
        "print(list5)"
      ],
      "metadata": {
        "colab": {
          "base_uri": "https://localhost:8080/"
        },
        "id": "Ckg80lqvWclM",
        "outputId": "98ece03d-417e-469b-e881-d1b6c9dbf640"
      },
      "execution_count": 8,
      "outputs": [
        {
          "output_type": "stream",
          "name": "stdout",
          "text": [
            "[<class 'int'>, <class 'float'>, <class 'str'>]\n"
          ]
        }
      ]
    }
  ]
}