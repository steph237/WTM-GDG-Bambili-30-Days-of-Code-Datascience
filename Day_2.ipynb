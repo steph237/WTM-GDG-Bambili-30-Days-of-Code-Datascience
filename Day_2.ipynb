{
  "nbformat": 4,
  "nbformat_minor": 0,
  "metadata": {
    "colab": {
      "provenance": [],
      "authorship_tag": "ABX9TyPaL98tPZIGjNVLWx/Anbf5",
      "include_colab_link": true
    },
    "kernelspec": {
      "name": "python3",
      "display_name": "Python 3"
    },
    "language_info": {
      "name": "python"
    }
  },
  "cells": [
    {
      "cell_type": "markdown",
      "metadata": {
        "id": "view-in-github",
        "colab_type": "text"
      },
      "source": [
        "<a href=\"https://colab.research.google.com/github/steph237/WTM-GDG-Bambili-30-Days-of-Code-Datascience/blob/main/Day_2.ipynb\" target=\"_parent\"><img src=\"https://colab.research.google.com/assets/colab-badge.svg\" alt=\"Open In Colab\"/></a>"
      ]
    },
    {
      "cell_type": "code",
      "execution_count": null,
      "metadata": {
        "id": "H_YPykswG61z"
      },
      "outputs": [],
      "source": [
        "sample_variable=None "
      ]
    },
    {
      "cell_type": "code",
      "source": [
        "sample_variable = \"Hello world\"\n",
        "print(sample_variable)"
      ],
      "metadata": {
        "colab": {
          "base_uri": "https://localhost:8080/"
        },
        "id": "1Oe_sFdOHRJM",
        "outputId": "74f93fa8-871e-4ee2-d354-a7d150648992"
      },
      "execution_count": null,
      "outputs": [
        {
          "output_type": "stream",
          "name": "stdout",
          "text": [
            "Hello world\n"
          ]
        }
      ]
    },
    {
      "cell_type": "code",
      "source": [],
      "metadata": {
        "id": "CyZJzd8LIChF"
      },
      "execution_count": null,
      "outputs": []
    }
  ]
}