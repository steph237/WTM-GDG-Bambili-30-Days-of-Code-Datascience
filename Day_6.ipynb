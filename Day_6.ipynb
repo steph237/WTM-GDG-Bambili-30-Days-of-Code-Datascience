{
  "nbformat": 4,
  "nbformat_minor": 0,
  "metadata": {
    "colab": {
      "provenance": [],
      "authorship_tag": "ABX9TyMI6J7MuM3Y/NF67YyzzZkq",
      "include_colab_link": true
    },
    "kernelspec": {
      "name": "python3",
      "display_name": "Python 3"
    },
    "language_info": {
      "name": "python"
    }
  },
  "cells": [
    {
      "cell_type": "markdown",
      "metadata": {
        "id": "view-in-github",
        "colab_type": "text"
      },
      "source": [
        "<a href=\"https://colab.research.google.com/github/steph237/WTM-GDG-Bambili-30-Days-of-Code-Datascience/blob/main/Day_6.ipynb\" target=\"_parent\"><img src=\"https://colab.research.google.com/assets/colab-badge.svg\" alt=\"Open In Colab\"/></a>"
      ]
    },
    {
      "cell_type": "code",
      "execution_count": 1,
      "metadata": {
        "colab": {
          "base_uri": "https://localhost:8080/"
        },
        "id": "kUyCdiSFr4EI",
        "outputId": "84f1dfb5-658b-48d1-ff2a-144dc5d96835"
      },
      "outputs": [
        {
          "output_type": "execute_result",
          "data": {
            "text/plain": [
              "{'bar', 'boy', 'fot', 'get', 'hat'}"
            ]
          },
          "metadata": {},
          "execution_count": 1
        }
      ],
      "source": [
        "x = set (['boy', 'fot', 'bar', 'get','hat'])\n",
        "print (x)"
      ]
    },
    {
      "cell_type": "code",
      "source": [],
      "metadata": {
        "id": "EKuzN91cskJu"
      },
      "execution_count": null,
      "outputs": []
    },
    {
      "cell_type": "code",
      "execution_count": 2,
      "metadata": {
        "colab": {
          "base_uri": "https://localhost:8080/"
        },
        "outputId": "4a3750b4-5153-49f7-c664-dd3223dd50ff",
        "id": "x_osdClbsmU8"
      },
      "outputs": [
        {
          "output_type": "stream",
          "name": "stdout",
          "text": [
            "{'bar', 'fot', 'get', 'hat', 'boy'}\n"
          ]
        }
      ],
      "source": [
        "x = set (('boy', 'fot', 'bar', 'get','hat'))\n",
        "print (x)"
      ]
    },
    {
      "cell_type": "code",
      "source": [
        "s = 'quiz'\n",
        "print(list(s))\n",
        "print(set(s))\n"
      ],
      "metadata": {
        "colab": {
          "base_uri": "https://localhost:8080/"
        },
        "id": "fdpahd3CsviT",
        "outputId": "9e990ddd-92e7-4a56-f217-aca82e541260"
      },
      "execution_count": 4,
      "outputs": [
        {
          "output_type": "stream",
          "name": "stdout",
          "text": [
            "['q', 'u', 'i', 'z']\n",
            "{'z', 'u', 'i', 'q'}\n"
          ]
        }
      ]
    },
    {
      "cell_type": "code",
      "source": [
        "a ={'dee','me','get','toy'}\n",
        "print(len(a))\n",
        "b = {'guy','me','pop','yay'}\n",
        "print(a|b)\n",
        "print(a.union(('bay','low')))\n",
        "print(a.intersection(b))\n",
        "print(a & b)\n",
        "print(a-b)\n",
        "print(a-{'dee'})\n",
        "print(a>b)"
      ],
      "metadata": {
        "colab": {
          "base_uri": "https://localhost:8080/"
        },
        "id": "Z2pWTJ8ss1xi",
        "outputId": "58455574-2b04-4765-d785-47208d4a15dc"
      },
      "execution_count": 16,
      "outputs": [
        {
          "output_type": "stream",
          "name": "stdout",
          "text": [
            "4\n",
            "{'me', 'yay', 'toy', 'get', 'guy', 'dee', 'pop'}\n",
            "{'me', 'toy', 'bay', 'get', 'dee', 'low'}\n",
            "{'me'}\n",
            "{'me'}\n",
            "{'dee', 'get', 'toy'}\n",
            "{'me', 'get', 'toy'}\n",
            "False\n"
          ]
        }
      ]
    }
  ]
}