{
  "nbformat": 4,
  "nbformat_minor": 0,
  "metadata": {
    "colab": {
      "provenance": [],
      "authorship_tag": "ABX9TyOzHdVWLnCGTFPj3v2LOS08",
      "include_colab_link": true
    },
    "kernelspec": {
      "name": "python3",
      "display_name": "Python 3"
    },
    "language_info": {
      "name": "python"
    }
  },
  "cells": [
    {
      "cell_type": "markdown",
      "metadata": {
        "id": "view-in-github",
        "colab_type": "text"
      },
      "source": [
        "<a href=\"https://colab.research.google.com/github/steph237/WTM-GDG-Bambili-30-Days-of-Code-Datascience/blob/main/Day3.ipynb\" target=\"_parent\"><img src=\"https://colab.research.google.com/assets/colab-badge.svg\" alt=\"Open In Colab\"/></a>"
      ]
    },
    {
      "cell_type": "code",
      "execution_count": 2,
      "metadata": {
        "colab": {
          "base_uri": "https://localhost:8080/"
        },
        "id": "z9rWVYWLvl5y",
        "outputId": "f44b1247-3ffc-4566-bfd6-79bdfc37206b"
      },
      "outputs": [
        {
          "output_type": "stream",
          "name": "stdout",
          "text": [
            "2\n"
          ]
        }
      ],
      "source": [
        "answer=1+1\n",
        "print(answer)"
      ]
    },
    {
      "cell_type": "markdown",
      "source": [
        "simple addition of intergers"
      ],
      "metadata": {
        "id": "vVpGGpz5x_Dg"
      }
    },
    {
      "cell_type": "code",
      "source": [
        "var1 = 2+2\n",
        "print(var1)\n",
        "# var1 is of type interger"
      ],
      "metadata": {
        "colab": {
          "base_uri": "https://localhost:8080/"
        },
        "id": "y3Qn0HTHv3bP",
        "outputId": "d6a2ca00-d874-4374-ccc4-28de4dbf0853"
      },
      "execution_count": 3,
      "outputs": [
        {
          "output_type": "stream",
          "name": "stdout",
          "text": [
            "4\n"
          ]
        }
      ]
    },
    {
      "cell_type": "markdown",
      "source": [
        "addition of intergers"
      ],
      "metadata": {
        "id": "3l_BbCCDyCJl"
      }
    },
    {
      "cell_type": "code",
      "source": [
        "var2 = 3+2/5\n",
        "print(var2)\n",
        "# var2 is of type float"
      ],
      "metadata": {
        "colab": {
          "base_uri": "https://localhost:8080/"
        },
        "id": "QxRxgtfPwEGF",
        "outputId": "f72e6dcb-fe8e-461d-f551-c2c37e1a6fdb"
      },
      "execution_count": 4,
      "outputs": [
        {
          "output_type": "stream",
          "name": "stdout",
          "text": [
            "3.4\n"
          ]
        }
      ]
    },
    {
      "cell_type": "markdown",
      "source": [
        "addition of intergers and result is a float datatype"
      ],
      "metadata": {
        "id": "s4D4hWqXyHLm"
      }
    },
    {
      "cell_type": "code",
      "source": [
        "var3 = 4 * 16\n",
        "print(var3)\n",
        "# var3 is of type interger"
      ],
      "metadata": {
        "colab": {
          "base_uri": "https://localhost:8080/"
        },
        "id": "TEjCeOB9wNZk",
        "outputId": "185fab8e-896e-4b98-822c-536b2d529d7a"
      },
      "execution_count": 5,
      "outputs": [
        {
          "output_type": "stream",
          "name": "stdout",
          "text": [
            "64\n"
          ]
        }
      ]
    },
    {
      "cell_type": "markdown",
      "source": [
        "multiplication of intergers"
      ],
      "metadata": {
        "id": "Nh0gRaEHyOb-"
      }
    },
    {
      "cell_type": "code",
      "source": [
        "var4 = pow(4,6)\n",
        "print (var4)\n",
        "# var4 is of type interger"
      ],
      "metadata": {
        "colab": {
          "base_uri": "https://localhost:8080/"
        },
        "id": "3lXmT3HywZvq",
        "outputId": "9de940e8-cfc8-4a88-9850-3288dc1bf2f7"
      },
      "execution_count": 7,
      "outputs": [
        {
          "output_type": "stream",
          "name": "stdout",
          "text": [
            "4096\n"
          ]
        }
      ]
    },
    {
      "cell_type": "markdown",
      "source": [
        "using the inbuilt power function to evaluate 4 raisded to the power 6"
      ],
      "metadata": {
        "id": "cD_mObNIySxj"
      }
    },
    {
      "cell_type": "code",
      "source": [
        "var5 = \"hello\" +\" \"+ \"world\"\n",
        "print(var5)\n",
        "# var5 is of type string"
      ],
      "metadata": {
        "colab": {
          "base_uri": "https://localhost:8080/"
        },
        "id": "xmWh12D7w8Yi",
        "outputId": "ecd38671-6fb0-460f-d027-1bfff33cd012"
      },
      "execution_count": 9,
      "outputs": [
        {
          "output_type": "stream",
          "name": "stdout",
          "text": [
            "hello world\n"
          ]
        }
      ]
    },
    {
      "cell_type": "markdown",
      "source": [
        "string data type addition or concatenation"
      ],
      "metadata": {
        "id": "ZhIlUS1LycLP"
      }
    },
    {
      "cell_type": "code",
      "source": [
        "var6 = \"helloworld\"* 5\n",
        "print(var6)\n",
        "# var6 is of datatype string"
      ],
      "metadata": {
        "colab": {
          "base_uri": "https://localhost:8080/"
        },
        "id": "sjTbtz0_xROQ",
        "outputId": "72def742-2237-45ed-8917-5faf303a4978"
      },
      "execution_count": 10,
      "outputs": [
        {
          "output_type": "stream",
          "name": "stdout",
          "text": [
            "helloworldhelloworldhelloworldhelloworldhelloworld\n"
          ]
        }
      ]
    },
    {
      "cell_type": "markdown",
      "source": [
        "string concatenation five times"
      ],
      "metadata": {
        "id": "etIcP2-FykdQ"
      }
    },
    {
      "cell_type": "code",
      "source": [
        "var7 = 4%3\n",
        "print(var7)"
      ],
      "metadata": {
        "colab": {
          "base_uri": "https://localhost:8080/"
        },
        "id": "5O8xe0Mfxhe_",
        "outputId": "07e4a8af-e2ba-4dd9-c81b-dd0b86279cf3"
      },
      "execution_count": 12,
      "outputs": [
        {
          "output_type": "stream",
          "name": "stdout",
          "text": [
            "1\n"
          ]
        }
      ]
    },
    {
      "cell_type": "markdown",
      "source": [
        "using the % symbol to evaluate modulus "
      ],
      "metadata": {
        "id": "UO9MQZ7LyqcU"
      }
    },
    {
      "cell_type": "markdown",
      "source": [],
      "metadata": {
        "id": "WeRMqAD8x6ax"
      }
    }
  ]
}